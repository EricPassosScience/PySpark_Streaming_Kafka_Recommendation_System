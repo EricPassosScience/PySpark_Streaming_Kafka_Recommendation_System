{
 "cells": [
  {
   "cell_type": "code",
   "execution_count": 3,
   "metadata": {},
   "outputs": [],
   "source": [
    "# Imports\n",
    "import os\n",
    "import time\n",
    "import random\n",
    "import pyspark\n",
    "from pyspark.sql import SparkSession\n",
    "from pyspark.sql.functions import *\n",
    "from pyspark.ml.feature import Normalizer, StandardScaler"
   ]
  },
  {
   "cell_type": "code",
   "execution_count": 5,
   "metadata": {},
   "outputs": [],
   "source": [
    "# Dirección del servidor Kafka\n",
    "SERVER = 'localhost:9092'"
   ]
  },
  {
   "cell_type": "code",
   "execution_count": 6,
   "metadata": {},
   "outputs": [],
   "source": [
    "# Nombre del tema\n",
    "TOPIC = \"ericpassos\""
   ]
  },
  {
   "cell_type": "code",
   "execution_count": 7,
   "metadata": {},
   "outputs": [],
   "source": [
    "# Conectores Spark para Apache Spark\n",
    "spark_jars =  (\"{},{},{},{},{}\".format(os.getcwd() + \"/jars/spark-sql-kafka-0-10_2.12-3.2.1.jar\",  \n",
    "                                       os.getcwd() + \"/jars/kafka-clients-2.1.1.jar\", \n",
    "                                       os.getcwd() + \"/jars/spark-streaming-kafka-0-10-assembly_2.12-3.3.2.jar\", \n",
    "                                       os.getcwd() + \"/jars/commons-pool2-2.8.0.jar\",  \n",
    "                                       os.getcwd() + \"/jars/spark-token-provider-kafka-0-10_2.12-3.1.2.jar\"))"
   ]
  },
  {
   "cell_type": "code",
   "execution_count": 10,
   "metadata": {},
   "outputs": [],
   "source": [
    "# Inicializar sesión de Spark\n",
    "spark = SparkSession \\\n",
    "        .builder \\\n",
    "        .config(\"spark.jars\", spark_jars) \\\n",
    "        .appName(\"eric-passos\") \\\n",
    "        .getOrCreate()"
   ]
  },
  {
   "cell_type": "code",
   "execution_count": 11,
   "metadata": {},
   "outputs": [],
   "source": [
    "spark.sparkContext.setLogLevel(\"ERROR\")"
   ]
  },
  {
   "cell_type": "code",
   "execution_count": 12,
   "metadata": {},
   "outputs": [],
   "source": [
    "# Usamos Spark para leer el flujo de datos de Kafka y guardalo en un dataframe\n",
    "df = spark \\\n",
    "        .readStream \\\n",
    "        .format(\"kafka\") \\\n",
    "        .option(\"kafka.bootstrap.servers\", SERVER) \\\n",
    "        .option(\"subscribe\", TOPIC) \\\n",
    "        .option(\"startingOffsets\", \"latest\") \\\n",
    "        .load()"
   ]
  },
  {
   "cell_type": "code",
   "execution_count": 13,
   "metadata": {},
   "outputs": [],
   "source": [
    "# Seleccionamos la columna timestamp como una string y la guardamos en un nuevo marco de datos\n",
    "df1 = df.selectExpr(\"CAST(value AS STRING)\", \"timestamp\") "
   ]
  },
  {
   "cell_type": "code",
   "execution_count": 14,
   "metadata": {},
   "outputs": [],
   "source": [
    "# Definimos el schema com el nombre de cada columna y el tipo de datos\n",
    "def_schema = \"order_id INT, id STRING, name STRING, popularity INT, duration_ms DOUBLE, \" \\\n",
    "             + \"artists STRING, id_artists STRING, release_date STRING, \" \\\n",
    "             + \"danceability DOUBLE,energy DOUBLE, key INT, loudness DOUBLE, \" \\\n",
    "             + \"mode INT,speechiness DOUBLE,\" \\\n",
    "             + \"acousticness DOUBLE, instrumentalness DOUBLE, liveness DOUBLE, \" \\\n",
    "             + \"valence DOUBLE, tempo DOUBLE, time_signature DOUBLE\""
   ]
  },
  {
   "cell_type": "code",
   "execution_count": 15,
   "metadata": {},
   "outputs": [],
   "source": [
    "# Seleccionamos el flujo de datos de acuerdo con el schema y lo guardamos en un nuevo marco de datos\n",
    "df2 = df1.select(from_csv(col(\"value\"), def_schema).alias(\"song\"), \"timestamp\")"
   ]
  },
  {
   "cell_type": "code",
   "execution_count": 16,
   "metadata": {},
   "outputs": [
    {
     "name": "stdout",
     "output_type": "stream",
     "text": [
      "root\n",
      " |-- order_id: integer (nullable = true)\n",
      " |-- id: string (nullable = true)\n",
      " |-- name: string (nullable = true)\n",
      " |-- popularity: integer (nullable = true)\n",
      " |-- duration_ms: double (nullable = true)\n",
      " |-- artists: string (nullable = true)\n",
      " |-- id_artists: string (nullable = true)\n",
      " |-- release_date: string (nullable = true)\n",
      " |-- danceability: double (nullable = true)\n",
      " |-- energy: double (nullable = true)\n",
      " |-- key: integer (nullable = true)\n",
      " |-- loudness: double (nullable = true)\n",
      " |-- mode: integer (nullable = true)\n",
      " |-- speechiness: double (nullable = true)\n",
      " |-- acousticness: double (nullable = true)\n",
      " |-- instrumentalness: double (nullable = true)\n",
      " |-- liveness: double (nullable = true)\n",
      " |-- valence: double (nullable = true)\n",
      " |-- tempo: double (nullable = true)\n",
      " |-- time_signature: double (nullable = true)\n",
      " |-- timestamp: timestamp (nullable = true)\n",
      "\n"
     ]
    }
   ],
   "source": [
    "# Creamos una view en la memoria de Spark y visualizamos el esquema\n",
    "df3 = df2.select(\"song.*\", \"timestamp\")  \n",
    "df3.createOrReplaceTempView(\"df3_View\");\n",
    "df3.printSchema()"
   ]
  },
  {
   "cell_type": "code",
   "execution_count": 17,
   "metadata": {},
   "outputs": [],
   "source": [
    "# Seleccionamos los datos con las canciones del stream\n",
    "musicas_stream = spark.sql(\"SELECT * FROM df3_View\")"
   ]
  },
  {
   "cell_type": "code",
   "execution_count": 18,
   "metadata": {},
   "outputs": [],
   "source": [
    "# Todavía no podemos obtener una vista previa porque tenemos que generar la transmisión Spark Streaming\n",
    "# musicas_stream.show()"
   ]
  },
  {
   "cell_type": "code",
   "execution_count": 19,
   "metadata": {},
   "outputs": [
    {
     "data": {
      "text/plain": [
       "False"
      ]
     },
     "execution_count": 19,
     "metadata": {},
     "output_type": "execute_result"
    }
   ],
   "source": [
    "# Creamos el flujo de datos en Spark Streaming\n",
    "musicas_stream_spark = musicas_stream \\\n",
    "        .writeStream \\\n",
    "        .trigger(processingTime = '5 seconds') \\\n",
    "        .outputMode(\"append\") \\\n",
    "        .option(\"truncate\", \"false\") \\\n",
    "        .format(\"memory\") \\\n",
    "        .queryName(\"tabela_spark\") \\\n",
    "        .start()\n",
    "\n",
    "musicas_stream_spark.awaitTermination(1)"
   ]
  },
  {
   "cell_type": "code",
   "execution_count": 20,
   "metadata": {},
   "outputs": [],
   "source": [
    "# Seleccionamos las canciones de la tabla de stream de Spark\n",
    "spark_songs = spark.sql(\"SELECT * FROM tabela_spark\")"
   ]
  },
  {
   "cell_type": "code",
   "execution_count": 22,
   "metadata": {},
   "outputs": [
    {
     "name": "stdout",
     "output_type": "stream",
     "text": [
      "+--------+--------------------+----------+----------+-----------+------------+--------------------+------------+------------+------+---+--------+----+-----------+------------+----------------+--------+-------+-------+--------------+--------------------+\n",
      "|order_id|                  id|      name|popularity|duration_ms|     artists|          id_artists|release_date|danceability|energy|key|loudness|mode|speechiness|acousticness|instrumentalness|liveness|valence|  tempo|time_signature|           timestamp|\n",
      "+--------+--------------------+----------+----------+-----------+------------+--------------------+------------+------------+------+---+--------+----+-----------+------------+----------------+--------+-------+-------+--------------+--------------------+\n",
      "|    2822|4pouRHxJycYQsSFBB...|     Young|         9|   198513.0|  BeachYouth|      ynePiZgwbyifcL|  2016-05-27|       0.584| 0.679|  2|  -7.782|   1|      0.032|     3.53E-4|         8.03E-4|   0.275|  0.666|125.118|           4.0|2023-03-22 21:39:...|\n",
      "|    2823|75sG1EaHaBAzCRQns...|    Radius|         0|   146750.0|       Hater|XiaFTZvoMChGDmSVgxTz|  2016-06-01|       0.153| 0.586|  7|  -8.055|   1|     0.0338|       0.236|           0.848|   0.377|  0.418|152.535|           4.0|2023-03-22 21:39:...|\n",
      "|    2824|43ZLh2Lyx0NMD53Sq...|     Doubt|         0|   227133.0|   Megafauna|  MXqggHZKeMccnIHgUx|  2016-05-16|       0.264| 0.922|  2|  -5.148|   1|     0.0758|     4.38E-4|         7.94E-5|   0.297|  0.361|159.939|           4.0|2023-03-22 21:39:...|\n",
      "|    2825|7mwkbmWQty61ZCRpw...|Pool Party|         0|   255600.0|JuliaJacklin|   fRkVfOfUszQHgDAGg|  2016-05-24|       0.625| 0.578|  0|  -7.053|   1|     0.0309|       0.093|         7.24E-6|   0.125|  0.506|108.155|           3.0|2023-03-22 21:39:...|\n",
      "|    2826|33t3YCIYgAMBsPFTd...|     Sleep|        26|   260866.0|  SarahKlang|PmevhKSUGTGYDxzpGGKf|  2016-05-17|       0.269| 0.332|  9| -10.411|   0|     0.0342|        0.87|             0.0|  0.0953|  0.135| 114.12|           4.0|2023-03-22 21:39:...|\n",
      "+--------+--------------------+----------+----------+-----------+------------+--------------------+------------+------------+------+---+--------+----+-----------+------------+----------------+--------+-------+-------+--------------+--------------------+\n",
      "only showing top 5 rows\n",
      "\n"
     ]
    }
   ],
   "source": [
    "# Ahora podemos visualizar la transmisión en tiempo real como una tabla Spark\n",
    "spark_songs.show(5)"
   ]
  },
  {
   "cell_type": "code",
   "execution_count": 23,
   "metadata": {},
   "outputs": [
    {
     "name": "stdout",
     "output_type": "stream",
     "text": [
      "+--------+--------------------+----------+----------+-----------+------------+\n",
      "|order_id|                  id|      name|popularity|duration_ms|     artists|\n",
      "+--------+--------------------+----------+----------+-----------+------------+\n",
      "|    2822|4pouRHxJycYQsSFBB...|     Young|         9|   198513.0|  BeachYouth|\n",
      "|    2823|75sG1EaHaBAzCRQns...|    Radius|         0|   146750.0|       Hater|\n",
      "|    2824|43ZLh2Lyx0NMD53Sq...|     Doubt|         0|   227133.0|   Megafauna|\n",
      "|    2825|7mwkbmWQty61ZCRpw...|Pool Party|         0|   255600.0|JuliaJacklin|\n",
      "|    2826|33t3YCIYgAMBsPFTd...|     Sleep|        26|   260866.0|  SarahKlang|\n",
      "+--------+--------------------+----------+----------+-----------+------------+\n",
      "only showing top 5 rows\n",
      "\n"
     ]
    }
   ],
   "source": [
    "# Solo podemos ver algunas columnas, por ejemplo\n",
    "spark_songs.select('order_id', 'id', 'name', 'popularity', 'duration_ms', 'artists').show(5)"
   ]
  },
  {
   "cell_type": "code",
   "execution_count": 38,
   "metadata": {},
   "outputs": [
    {
     "data": {
      "text/plain": [
       "175"
      ]
     },
     "execution_count": 38,
     "metadata": {},
     "output_type": "execute_result"
    }
   ],
   "source": [
    "# Recuento de canciones extraídas en tiempo real\n",
    "spark_songs.count()"
   ]
  },
  {
   "cell_type": "markdown",
   "metadata": {},
   "source": [
    "Espere unos minutos antes de continuar con la ejecución para que se puedan recopilar los datos de transmisión."
   ]
  },
  {
   "cell_type": "markdown",
   "metadata": {},
   "source": [
    "> Ahora trabajemos en la extracción de datos de Spotify."
   ]
  },
  {
   "cell_type": "code",
   "execution_count": 39,
   "metadata": {},
   "outputs": [],
   "source": [
    "# https://pypi.org/project/spotipy/\n",
    "!pip install -q spotipy"
   ]
  },
  {
   "cell_type": "code",
   "execution_count": 40,
   "metadata": {},
   "outputs": [],
   "source": [
    "# Imports\n",
    "import os\n",
    "import ujson\n",
    "import spotipy\n",
    "import spotipy.util\n",
    "from pyspark.ml.feature import VectorAssembler\n",
    "from pyspark.ml.feature import StandardScaler\n",
    "from pyspark.ml.clustering import KMeans\n",
    "from pyspark.ml.evaluation import ClusteringEvaluator\n",
    "import numpy as np\n",
    "import pandas as pd\n",
    "import matplotlib.pyplot as plt\n",
    "import seaborn as sns\n",
    "from tqdm import tqdm\n",
    "import warnings\n",
    "warnings.filterwarnings(\"ignore\")"
   ]
  },
  {
   "cell_type": "markdown",
   "metadata": {},
   "source": [
    "Lea el contenido README sobre la creación de API"
   ]
  },
  {
   "cell_type": "code",
   "execution_count": 42,
   "metadata": {},
   "outputs": [],
   "source": [
    "# Aquí pones tus claves API de Spotify\n",
    "os.environ[\"SPOTIPY_CLIENT_ID\"] = 'inclua_aqui_seu_client_id'\n",
    "os.environ[\"SPOTIPY_CLIENT_SECRET\"] = 'inclua_aqui_seu_client_secret'\n",
    "os.environ[\"SPOTIPY_REDIRECT_URI\"] = 'http://localhost:7777/callback'"
   ]
  },
  {
   "cell_type": "markdown",
   "metadata": {},
   "source": [
    "https://developer.spotify.com/documentation/general/guides/authorization/scopes/"
   ]
  },
  {
   "cell_type": "code",
   "execution_count": 43,
   "metadata": {},
   "outputs": [],
   "source": [
    "# Ámbito de extracción de las preferencias del usuario\n",
    "scope = 'user-library-read'"
   ]
  },
  {
   "cell_type": "code",
   "execution_count": 44,
   "metadata": {},
   "outputs": [],
   "source": [
    "# Username do Spotify\n",
    "username = 'inclua_aqui_seu_email_spotify'"
   ]
  },
  {
   "cell_type": "code",
   "execution_count": 45,
   "metadata": {},
   "outputs": [],
   "source": [
    "# Creación de tokens de acceso\n",
    "token = spotipy.util.prompt_for_user_token(username, scope)"
   ]
  },
  {
   "cell_type": "code",
   "execution_count": 46,
   "metadata": {},
   "outputs": [],
   "source": [
    "# Crear el objeto de autenticación\n",
    "spotipy_obj = spotipy.Spotify(auth = token)"
   ]
  },
  {
   "cell_type": "code",
   "execution_count": 47,
   "metadata": {},
   "outputs": [],
   "source": [
    "# Extrae hasta 50 canciones de la lista de favoritos del usuario\n",
    "saved_tracks = spotipy_obj.current_user_saved_tracks(limit = 50) "
   ]
  },
  {
   "cell_type": "code",
   "execution_count": 48,
   "metadata": {},
   "outputs": [
    {
     "name": "stdout",
     "output_type": "stream",
     "text": [
      "Total de Tracks: 35 \n"
     ]
    }
   ],
   "source": [
    "# Número de canciones extraídas\n",
    "n_tracks = saved_tracks['total']\n",
    "print('Total de Tracks: %d ' % n_tracks)"
   ]
  },
  {
   "cell_type": "code",
   "execution_count": 49,
   "metadata": {},
   "outputs": [],
   "source": [
    "# Función para extraer los atributos de la lista de reproducción del usuario\n",
    "def select_features(track_response):\n",
    "    return {        \n",
    "        'id': str(track_response['track']['id']),\n",
    "        'name': str(track_response['track']['name']),\n",
    "        'artists': [artist['name'] for artist in track_response['track']['artists']],\n",
    "        'popularity': track_response['track']['popularity']\n",
    "    }"
   ]
  },
  {
   "cell_type": "code",
   "execution_count": 50,
   "metadata": {},
   "outputs": [],
   "source": [
    "# Aplicar la función\n",
    "tracks = [select_features(track) for track in saved_tracks['items']]"
   ]
  },
  {
   "cell_type": "code",
   "execution_count": 51,
   "metadata": {},
   "outputs": [],
   "source": [
    "# Extrae los atributos de las canciones favoritas del usuario\n",
    "while saved_tracks['next']:\n",
    "    saved_tracks = spotipy_obj.next(saved_tracks)\n",
    "    tracks.extend([select_features(track) for track in saved_tracks['items']])"
   ]
  },
  {
   "cell_type": "code",
   "execution_count": 52,
   "metadata": {},
   "outputs": [],
   "source": [
    "# Creamos el dataframe de pandas\n",
    "df_tracks = pd.DataFrame(tracks)\n",
    "pd.set_option('display.max_rows', len(tracks))\n",
    "df_tracks['artists'] = df_tracks['artists'].apply(lambda artists: artists[0])"
   ]
  },
  {
   "cell_type": "code",
   "execution_count": 53,
   "metadata": {},
   "outputs": [
    {
     "data": {
      "text/html": [
       "<div>\n",
       "<style scoped>\n",
       "    .dataframe tbody tr th:only-of-type {\n",
       "        vertical-align: middle;\n",
       "    }\n",
       "\n",
       "    .dataframe tbody tr th {\n",
       "        vertical-align: top;\n",
       "    }\n",
       "\n",
       "    .dataframe thead th {\n",
       "        text-align: right;\n",
       "    }\n",
       "</style>\n",
       "<table border=\"1\" class=\"dataframe\">\n",
       "  <thead>\n",
       "    <tr style=\"text-align: right;\">\n",
       "      <th></th>\n",
       "      <th>id</th>\n",
       "      <th>name</th>\n",
       "      <th>artists</th>\n",
       "      <th>popularity</th>\n",
       "    </tr>\n",
       "  </thead>\n",
       "  <tbody>\n",
       "    <tr>\n",
       "      <th>0</th>\n",
       "      <td>3BjD16l0CBQxUvcRI7vLWN</td>\n",
       "      <td>Advice For The Young At Heart</td>\n",
       "      <td>Tears For Fears</td>\n",
       "      <td>58</td>\n",
       "    </tr>\n",
       "    <tr>\n",
       "      <th>1</th>\n",
       "      <td>4RvWPyQ5RL0ao9LPZeSouE</td>\n",
       "      <td>Everybody Wants To Rule The World</td>\n",
       "      <td>Tears For Fears</td>\n",
       "      <td>85</td>\n",
       "    </tr>\n",
       "    <tr>\n",
       "      <th>2</th>\n",
       "      <td>4Y8vb1uy9IjM2V1hqvrAid</td>\n",
       "      <td>You'll Be In My Heart</td>\n",
       "      <td>Phil Collins</td>\n",
       "      <td>64</td>\n",
       "    </tr>\n",
       "    <tr>\n",
       "      <th>3</th>\n",
       "      <td>5LYJ631w9ps5h9tdvac7yP</td>\n",
       "      <td>Easy Lover</td>\n",
       "      <td>Philip Bailey</td>\n",
       "      <td>68</td>\n",
       "    </tr>\n",
       "    <tr>\n",
       "      <th>4</th>\n",
       "      <td>0YhwwpABBK0GzeUaB8OzIm</td>\n",
       "      <td>Night Fever</td>\n",
       "      <td>Bee Gees</td>\n",
       "      <td>0</td>\n",
       "    </tr>\n",
       "    <tr>\n",
       "      <th>5</th>\n",
       "      <td>2xiOdusRnZezQok1RgLNeS</td>\n",
       "      <td>You Should Be Dancing</td>\n",
       "      <td>Bee Gees</td>\n",
       "      <td>67</td>\n",
       "    </tr>\n",
       "    <tr>\n",
       "      <th>6</th>\n",
       "      <td>3EQpCDfP5RdF58lL3d73jn</td>\n",
       "      <td>More Than A Woman</td>\n",
       "      <td>Bee Gees</td>\n",
       "      <td>0</td>\n",
       "    </tr>\n",
       "    <tr>\n",
       "      <th>7</th>\n",
       "      <td>2E0kGMK29BUaVQN4zC3Vpj</td>\n",
       "      <td>How Deep Is Your Love</td>\n",
       "      <td>Bee Gees</td>\n",
       "      <td>0</td>\n",
       "    </tr>\n",
       "    <tr>\n",
       "      <th>8</th>\n",
       "      <td>3VZqFp0wim9TLsfsUHgHWg</td>\n",
       "      <td>You're The First, The Last, My Everything</td>\n",
       "      <td>Barry White</td>\n",
       "      <td>33</td>\n",
       "    </tr>\n",
       "    <tr>\n",
       "      <th>9</th>\n",
       "      <td>1Xf1lWBSml62NG1du3Ro14</td>\n",
       "      <td>Just The Way You Are</td>\n",
       "      <td>Barry White</td>\n",
       "      <td>62</td>\n",
       "    </tr>\n",
       "  </tbody>\n",
       "</table>\n",
       "</div>"
      ],
      "text/plain": [
       "                       id                                       name  \\\n",
       "0  3BjD16l0CBQxUvcRI7vLWN              Advice For The Young At Heart   \n",
       "1  4RvWPyQ5RL0ao9LPZeSouE          Everybody Wants To Rule The World   \n",
       "2  4Y8vb1uy9IjM2V1hqvrAid                      You'll Be In My Heart   \n",
       "3  5LYJ631w9ps5h9tdvac7yP                                 Easy Lover   \n",
       "4  0YhwwpABBK0GzeUaB8OzIm                                Night Fever   \n",
       "5  2xiOdusRnZezQok1RgLNeS                      You Should Be Dancing   \n",
       "6  3EQpCDfP5RdF58lL3d73jn                          More Than A Woman   \n",
       "7  2E0kGMK29BUaVQN4zC3Vpj                      How Deep Is Your Love   \n",
       "8  3VZqFp0wim9TLsfsUHgHWg  You're The First, The Last, My Everything   \n",
       "9  1Xf1lWBSml62NG1du3Ro14                       Just The Way You Are   \n",
       "\n",
       "           artists  popularity  \n",
       "0  Tears For Fears          58  \n",
       "1  Tears For Fears          85  \n",
       "2     Phil Collins          64  \n",
       "3    Philip Bailey          68  \n",
       "4         Bee Gees           0  \n",
       "5         Bee Gees          67  \n",
       "6         Bee Gees           0  \n",
       "7         Bee Gees           0  \n",
       "8      Barry White          33  \n",
       "9      Barry White          62  "
      ]
     },
     "execution_count": 53,
     "metadata": {},
     "output_type": "execute_result"
    }
   ],
   "source": [
    "df_tracks.head(10)"
   ]
  },
  {
   "cell_type": "code",
   "execution_count": 54,
   "metadata": {},
   "outputs": [],
   "source": [
    "# Diccionario de atributos de audio\n",
    "audio_features = {}"
   ]
  },
  {
   "cell_type": "code",
   "execution_count": 55,
   "metadata": {},
   "outputs": [],
   "source": [
    "# Extraer atributos de audio\n",
    "for idd in df_tracks['id'].tolist():\n",
    "    audio_features[idd] = spotipy_obj.audio_features(idd)[0]"
   ]
  },
  {
   "cell_type": "code",
   "execution_count": 56,
   "metadata": {},
   "outputs": [],
   "source": [
    "# Agregamos los atributos de audio al marco de datos\n",
    "df_tracks['acousticness'] = df_tracks['id'].apply(lambda idd: audio_features[idd]['acousticness'])\n",
    "df_tracks['speechiness'] = df_tracks['id'].apply(lambda idd: audio_features[idd]['speechiness'])\n",
    "df_tracks['key'] = df_tracks['id'].apply(lambda idd: str(audio_features[idd]['key']))\n",
    "df_tracks['liveness'] = df_tracks['id'].apply(lambda idd: audio_features[idd]['liveness'])\n",
    "df_tracks['instrumentalness'] = df_tracks['id'].apply(lambda idd: audio_features[idd]['instrumentalness'])\n",
    "df_tracks['energy'] = df_tracks['id'].apply(lambda idd: audio_features[idd]['energy'])\n",
    "df_tracks['tempo'] = df_tracks['id'].apply(lambda idd: audio_features[idd]['tempo'])\n",
    "df_tracks['loudness'] = df_tracks['id'].apply(lambda idd: audio_features[idd]['loudness'])\n",
    "df_tracks['danceability'] = df_tracks['id'].apply(lambda idd: audio_features[idd]['danceability'])\n",
    "df_tracks['valence'] = df_tracks['id'].apply(lambda idd: audio_features[idd]['valence'])"
   ]
  },
  {
   "cell_type": "code",
   "execution_count": 57,
   "metadata": {},
   "outputs": [
    {
     "data": {
      "text/html": [
       "<div>\n",
       "<style scoped>\n",
       "    .dataframe tbody tr th:only-of-type {\n",
       "        vertical-align: middle;\n",
       "    }\n",
       "\n",
       "    .dataframe tbody tr th {\n",
       "        vertical-align: top;\n",
       "    }\n",
       "\n",
       "    .dataframe thead th {\n",
       "        text-align: right;\n",
       "    }\n",
       "</style>\n",
       "<table border=\"1\" class=\"dataframe\">\n",
       "  <thead>\n",
       "    <tr style=\"text-align: right;\">\n",
       "      <th></th>\n",
       "      <th>id</th>\n",
       "      <th>name</th>\n",
       "      <th>artists</th>\n",
       "      <th>popularity</th>\n",
       "      <th>acousticness</th>\n",
       "      <th>speechiness</th>\n",
       "      <th>key</th>\n",
       "      <th>liveness</th>\n",
       "      <th>instrumentalness</th>\n",
       "      <th>energy</th>\n",
       "      <th>tempo</th>\n",
       "      <th>loudness</th>\n",
       "      <th>danceability</th>\n",
       "      <th>valence</th>\n",
       "    </tr>\n",
       "  </thead>\n",
       "  <tbody>\n",
       "    <tr>\n",
       "      <th>0</th>\n",
       "      <td>3BjD16l0CBQxUvcRI7vLWN</td>\n",
       "      <td>Advice For The Young At Heart</td>\n",
       "      <td>Tears For Fears</td>\n",
       "      <td>58</td>\n",
       "      <td>0.0736</td>\n",
       "      <td>0.0328</td>\n",
       "      <td>5</td>\n",
       "      <td>0.1430</td>\n",
       "      <td>0.000132</td>\n",
       "      <td>0.787</td>\n",
       "      <td>122.478</td>\n",
       "      <td>-8.393</td>\n",
       "      <td>0.665</td>\n",
       "      <td>0.358</td>\n",
       "    </tr>\n",
       "    <tr>\n",
       "      <th>1</th>\n",
       "      <td>4RvWPyQ5RL0ao9LPZeSouE</td>\n",
       "      <td>Everybody Wants To Rule The World</td>\n",
       "      <td>Tears For Fears</td>\n",
       "      <td>85</td>\n",
       "      <td>0.3470</td>\n",
       "      <td>0.0527</td>\n",
       "      <td>7</td>\n",
       "      <td>0.1040</td>\n",
       "      <td>0.003890</td>\n",
       "      <td>0.795</td>\n",
       "      <td>112.067</td>\n",
       "      <td>-12.095</td>\n",
       "      <td>0.645</td>\n",
       "      <td>0.535</td>\n",
       "    </tr>\n",
       "    <tr>\n",
       "      <th>2</th>\n",
       "      <td>4Y8vb1uy9IjM2V1hqvrAid</td>\n",
       "      <td>You'll Be In My Heart</td>\n",
       "      <td>Phil Collins</td>\n",
       "      <td>64</td>\n",
       "      <td>0.0626</td>\n",
       "      <td>0.0299</td>\n",
       "      <td>8</td>\n",
       "      <td>0.0947</td>\n",
       "      <td>0.000002</td>\n",
       "      <td>0.748</td>\n",
       "      <td>96.590</td>\n",
       "      <td>-6.540</td>\n",
       "      <td>0.568</td>\n",
       "      <td>0.623</td>\n",
       "    </tr>\n",
       "    <tr>\n",
       "      <th>3</th>\n",
       "      <td>5LYJ631w9ps5h9tdvac7yP</td>\n",
       "      <td>Easy Lover</td>\n",
       "      <td>Philip Bailey</td>\n",
       "      <td>68</td>\n",
       "      <td>0.1050</td>\n",
       "      <td>0.0369</td>\n",
       "      <td>1</td>\n",
       "      <td>0.0825</td>\n",
       "      <td>0.000163</td>\n",
       "      <td>0.923</td>\n",
       "      <td>128.871</td>\n",
       "      <td>-5.082</td>\n",
       "      <td>0.740</td>\n",
       "      <td>0.930</td>\n",
       "    </tr>\n",
       "    <tr>\n",
       "      <th>4</th>\n",
       "      <td>0YhwwpABBK0GzeUaB8OzIm</td>\n",
       "      <td>Night Fever</td>\n",
       "      <td>Bee Gees</td>\n",
       "      <td>0</td>\n",
       "      <td>0.0140</td>\n",
       "      <td>0.0291</td>\n",
       "      <td>1</td>\n",
       "      <td>0.0794</td>\n",
       "      <td>0.000101</td>\n",
       "      <td>0.783</td>\n",
       "      <td>109.183</td>\n",
       "      <td>-6.341</td>\n",
       "      <td>0.696</td>\n",
       "      <td>0.768</td>\n",
       "    </tr>\n",
       "  </tbody>\n",
       "</table>\n",
       "</div>"
      ],
      "text/plain": [
       "                       id                               name          artists  \\\n",
       "0  3BjD16l0CBQxUvcRI7vLWN      Advice For The Young At Heart  Tears For Fears   \n",
       "1  4RvWPyQ5RL0ao9LPZeSouE  Everybody Wants To Rule The World  Tears For Fears   \n",
       "2  4Y8vb1uy9IjM2V1hqvrAid              You'll Be In My Heart     Phil Collins   \n",
       "3  5LYJ631w9ps5h9tdvac7yP                         Easy Lover    Philip Bailey   \n",
       "4  0YhwwpABBK0GzeUaB8OzIm                        Night Fever         Bee Gees   \n",
       "\n",
       "   popularity  acousticness  speechiness key  liveness  instrumentalness  \\\n",
       "0          58        0.0736       0.0328   5    0.1430          0.000132   \n",
       "1          85        0.3470       0.0527   7    0.1040          0.003890   \n",
       "2          64        0.0626       0.0299   8    0.0947          0.000002   \n",
       "3          68        0.1050       0.0369   1    0.0825          0.000163   \n",
       "4           0        0.0140       0.0291   1    0.0794          0.000101   \n",
       "\n",
       "   energy    tempo  loudness  danceability  valence  \n",
       "0   0.787  122.478    -8.393         0.665    0.358  \n",
       "1   0.795  112.067   -12.095         0.645    0.535  \n",
       "2   0.748   96.590    -6.540         0.568    0.623  \n",
       "3   0.923  128.871    -5.082         0.740    0.930  \n",
       "4   0.783  109.183    -6.341         0.696    0.768  "
      ]
     },
     "execution_count": 57,
     "metadata": {},
     "output_type": "execute_result"
    }
   ],
   "source": [
    "df_tracks.head()"
   ]
  },
  {
   "cell_type": "code",
   "execution_count": 58,
   "metadata": {},
   "outputs": [
    {
     "data": {
      "text/html": [
       "<div>\n",
       "<style scoped>\n",
       "    .dataframe tbody tr th:only-of-type {\n",
       "        vertical-align: middle;\n",
       "    }\n",
       "\n",
       "    .dataframe tbody tr th {\n",
       "        vertical-align: top;\n",
       "    }\n",
       "\n",
       "    .dataframe thead th {\n",
       "        text-align: right;\n",
       "    }\n",
       "</style>\n",
       "<table border=\"1\" class=\"dataframe\">\n",
       "  <thead>\n",
       "    <tr style=\"text-align: right;\">\n",
       "      <th></th>\n",
       "      <th>id</th>\n",
       "      <th>name</th>\n",
       "      <th>artists</th>\n",
       "      <th>popularity</th>\n",
       "      <th>acousticness</th>\n",
       "      <th>speechiness</th>\n",
       "      <th>key</th>\n",
       "      <th>liveness</th>\n",
       "      <th>instrumentalness</th>\n",
       "      <th>energy</th>\n",
       "      <th>tempo</th>\n",
       "      <th>loudness</th>\n",
       "      <th>danceability</th>\n",
       "      <th>valence</th>\n",
       "    </tr>\n",
       "  </thead>\n",
       "  <tbody>\n",
       "    <tr>\n",
       "      <th>32</th>\n",
       "      <td>7KGFNruz20BVdcSzoQrSlu</td>\n",
       "      <td>After Slice</td>\n",
       "      <td>Ivory Waves</td>\n",
       "      <td>30</td>\n",
       "      <td>0.289</td>\n",
       "      <td>0.0357</td>\n",
       "      <td>6</td>\n",
       "      <td>0.0632</td>\n",
       "      <td>0.0221</td>\n",
       "      <td>0.348</td>\n",
       "      <td>122.654</td>\n",
       "      <td>-8.23</td>\n",
       "      <td>0.664</td>\n",
       "      <td>0.607</td>\n",
       "    </tr>\n",
       "  </tbody>\n",
       "</table>\n",
       "</div>"
      ],
      "text/plain": [
       "                        id         name      artists  popularity  \\\n",
       "32  7KGFNruz20BVdcSzoQrSlu  After Slice  Ivory Waves          30   \n",
       "\n",
       "    acousticness  speechiness key  liveness  instrumentalness  energy  \\\n",
       "32         0.289       0.0357   6    0.0632            0.0221   0.348   \n",
       "\n",
       "      tempo  loudness  danceability  valence  \n",
       "32  122.654     -8.23         0.664    0.607  "
      ]
     },
     "execution_count": 58,
     "metadata": {},
     "output_type": "execute_result"
    }
   ],
   "source": [
    "# Seleccionamos al azar una canción\n",
    "musica_randomica = random. randint(0,len(df_tracks)-1)\n",
    "df_musica_randomica = df_tracks.head(musica_randomica)[-1:]\n",
    "df_musica_randomica"
   ]
  },
  {
   "cell_type": "code",
   "execution_count": 59,
   "metadata": {},
   "outputs": [
    {
     "name": "stdout",
     "output_type": "stream",
     "text": [
      "+--------+--------------------+----------+----------+-----------+------------+--------------------+------------+------------+------+---+--------+----+-----------+------------+----------------+--------+-------+-------+--------------+--------------------+\n",
      "|order_id|                  id|      name|popularity|duration_ms|     artists|          id_artists|release_date|danceability|energy|key|loudness|mode|speechiness|acousticness|instrumentalness|liveness|valence|  tempo|time_signature|           timestamp|\n",
      "+--------+--------------------+----------+----------+-----------+------------+--------------------+------------+------------+------+---+--------+----+-----------+------------+----------------+--------+-------+-------+--------------+--------------------+\n",
      "|    2822|4pouRHxJycYQsSFBB...|     Young|         9|   198513.0|  BeachYouth|      ynePiZgwbyifcL|  2016-05-27|       0.584| 0.679|  2|  -7.782|   1|      0.032|     3.53E-4|         8.03E-4|   0.275|  0.666|125.118|           4.0|2023-03-22 21:39:...|\n",
      "|    2823|75sG1EaHaBAzCRQns...|    Radius|         0|   146750.0|       Hater|XiaFTZvoMChGDmSVgxTz|  2016-06-01|       0.153| 0.586|  7|  -8.055|   1|     0.0338|       0.236|           0.848|   0.377|  0.418|152.535|           4.0|2023-03-22 21:39:...|\n",
      "|    2824|43ZLh2Lyx0NMD53Sq...|     Doubt|         0|   227133.0|   Megafauna|  MXqggHZKeMccnIHgUx|  2016-05-16|       0.264| 0.922|  2|  -5.148|   1|     0.0758|     4.38E-4|         7.94E-5|   0.297|  0.361|159.939|           4.0|2023-03-22 21:39:...|\n",
      "|    2825|7mwkbmWQty61ZCRpw...|Pool Party|         0|   255600.0|JuliaJacklin|   fRkVfOfUszQHgDAGg|  2016-05-24|       0.625| 0.578|  0|  -7.053|   1|     0.0309|       0.093|         7.24E-6|   0.125|  0.506|108.155|           3.0|2023-03-22 21:39:...|\n",
      "|    2826|33t3YCIYgAMBsPFTd...|     Sleep|        26|   260866.0|  SarahKlang|PmevhKSUGTGYDxzpGGKf|  2016-05-17|       0.269| 0.332|  9| -10.411|   0|     0.0342|        0.87|             0.0|  0.0953|  0.135| 114.12|           4.0|2023-03-22 21:39:...|\n",
      "+--------+--------------------+----------+----------+-----------+------------+--------------------+------------+------------+------+---+--------+----+-----------+------------+----------------+--------+-------+-------+--------------+--------------------+\n",
      "only showing top 5 rows\n",
      "\n"
     ]
    }
   ],
   "source": [
    "# Transmisión de canciones Spark\n",
    "spark_songs.show(5)"
   ]
  },
  {
   "cell_type": "code",
   "execution_count": 60,
   "metadata": {},
   "outputs": [],
   "source": [
    "# Ya no necesitamos estas columnas\n",
    "spark_songs = spark_songs.drop('order_id', \n",
    "                               'mode', \n",
    "                               'release_date', \n",
    "                               'id_artists',\n",
    "                               'time_signature', \n",
    "                               'duration_ms',\n",
    "                               'timestamp')"
   ]
  },
  {
   "cell_type": "code",
   "execution_count": 61,
   "metadata": {},
   "outputs": [],
   "source": [
    "# Crea el dataframe con música elegida al azar\n",
    "df_sp = spark.createDataFrame(df_musica_randomica)"
   ]
  },
  {
   "cell_type": "code",
   "execution_count": 62,
   "metadata": {},
   "outputs": [],
   "source": [
    "# Concatenar música en streaming de Spark con música de Spotify\n",
    "df = spark_songs.union(df_sp)"
   ]
  },
  {
   "cell_type": "code",
   "execution_count": 63,
   "metadata": {},
   "outputs": [
    {
     "name": "stdout",
     "output_type": "stream",
     "text": [
      "+--------------------+----------+----------+------------+------------+------+---+--------+-----------+------------+----------------+--------+-------+-------+\n",
      "|                  id|      name|popularity|     artists|danceability|energy|key|loudness|speechiness|acousticness|instrumentalness|liveness|valence|  tempo|\n",
      "+--------------------+----------+----------+------------+------------+------+---+--------+-----------+------------+----------------+--------+-------+-------+\n",
      "|4pouRHxJycYQsSFBB...|     Young|         9|  BeachYouth|       0.584| 0.679|  2|  -7.782|      0.032|     3.53E-4|         8.03E-4|   0.275|  0.666|125.118|\n",
      "|75sG1EaHaBAzCRQns...|    Radius|         0|       Hater|       0.153| 0.586|  7|  -8.055|     0.0338|       0.236|           0.848|   0.377|  0.418|152.535|\n",
      "|43ZLh2Lyx0NMD53Sq...|     Doubt|         0|   Megafauna|       0.264| 0.922|  2|  -5.148|     0.0758|     4.38E-4|         7.94E-5|   0.297|  0.361|159.939|\n",
      "|7mwkbmWQty61ZCRpw...|Pool Party|         0|JuliaJacklin|       0.625| 0.578|  0|  -7.053|     0.0309|       0.093|         7.24E-6|   0.125|  0.506|108.155|\n",
      "|33t3YCIYgAMBsPFTd...|     Sleep|        26|  SarahKlang|       0.269| 0.332|  9| -10.411|     0.0342|        0.87|             0.0|  0.0953|  0.135| 114.12|\n",
      "+--------------------+----------+----------+------------+------------+------+---+--------+-----------+------------+----------------+--------+-------+-------+\n",
      "only showing top 5 rows\n",
      "\n"
     ]
    }
   ],
   "source": [
    "df.show(5)"
   ]
  },
  {
   "cell_type": "markdown",
   "metadata": {},
   "source": [
    "## Preprocesamiento de datos"
   ]
  },
  {
   "cell_type": "code",
   "execution_count": 64,
   "metadata": {},
   "outputs": [],
   "source": [
    "# Preparamos el VectorAssembler\n",
    "vetor = VectorAssembler(inputCols = ['danceability',\n",
    "                                     'energy',\n",
    "                                     'loudness',\n",
    "                                     'speechiness',\n",
    "                                     'acousticness',\n",
    "                                     'instrumentalness',\n",
    "                                     'liveness',\n",
    "                                     'valence',\n",
    "                                     'tempo'], \n",
    "                        outputCol = 'song_features')"
   ]
  },
  {
   "cell_type": "code",
   "execution_count": 65,
   "metadata": {},
   "outputs": [],
   "source": [
    "# Descartamos valores inválidos\n",
    "assembled = vetor.setHandleInvalid(\"skip\").transform(df)"
   ]
  },
  {
   "cell_type": "code",
   "execution_count": 66,
   "metadata": {},
   "outputs": [],
   "source": [
    "# Preparamos el estandarizador\n",
    "std = StandardScaler(inputCol = 'song_features', outputCol = 'standardized')"
   ]
  },
  {
   "cell_type": "code",
   "execution_count": 67,
   "metadata": {},
   "outputs": [],
   "source": [
    "# Entrenamos al estandarizador\n",
    "scale = std.fit(assembled)"
   ]
  },
  {
   "cell_type": "code",
   "execution_count": 68,
   "metadata": {},
   "outputs": [],
   "source": [
    "# Dataframe con datos estandarizados\n",
    "df = scale.transform(assembled)"
   ]
  },
  {
   "cell_type": "code",
   "execution_count": 69,
   "metadata": {},
   "outputs": [
    {
     "name": "stdout",
     "output_type": "stream",
     "text": [
      "+--------------------+----------+----------+------------+------------+------+---+--------+-----------+------------+----------------+--------+-------+-------+--------------------+--------------------+\n",
      "|                  id|      name|popularity|     artists|danceability|energy|key|loudness|speechiness|acousticness|instrumentalness|liveness|valence|  tempo|       song_features|        standardized|\n",
      "+--------------------+----------+----------+------------+------------+------+---+--------+-----------+------------+----------------+--------+-------+-------+--------------------+--------------------+\n",
      "|4pouRHxJycYQsSFBB...|     Young|         9|  BeachYouth|       0.584| 0.679|  2|  -7.782|      0.032|     3.53E-4|         8.03E-4|   0.275|  0.666|125.118|[0.584,0.679,-7.7...|[3.17071410703442...|\n",
      "|75sG1EaHaBAzCRQns...|    Radius|         0|       Hater|       0.153| 0.586|  7|  -8.055|     0.0338|       0.236|           0.848|   0.377|  0.418|152.535|[0.153,0.586,-8.0...|[0.83068366160319...|\n",
      "|43ZLh2Lyx0NMD53Sq...|     Doubt|         0|   Megafauna|       0.264| 0.922|  2|  -5.148|     0.0758|     4.38E-4|         7.94E-5|   0.297|  0.361|159.939|[0.264,0.922,-5.1...|[1.43333651413885...|\n",
      "|7mwkbmWQty61ZCRpw...|Pool Party|         0|JuliaJacklin|       0.625| 0.578|  0|  -7.053|     0.0309|       0.093|         7.24E-6|   0.125|  0.506|108.155|[0.625,0.578,-7.0...|[3.39331561112417...|\n",
      "|33t3YCIYgAMBsPFTd...|     Sleep|        26|  SarahKlang|       0.269| 0.332|  9| -10.411|     0.0342|        0.87|             0.0|  0.0953|  0.135| 114.12|[0.269,0.332,-10....|[1.46048303902784...|\n",
      "+--------------------+----------+----------+------------+------------+------+---+--------+-----------+------------+----------------+--------+-------+-------+--------------------+--------------------+\n",
      "only showing top 5 rows\n",
      "\n"
     ]
    }
   ],
   "source": [
    "df.show(5)"
   ]
  },
  {
   "cell_type": "markdown",
   "metadata": {},
   "source": [
    "## Machine Learning con Aprendizaje no Supervisado"
   ]
  },
  {
   "cell_type": "code",
   "execution_count": 70,
   "metadata": {},
   "outputs": [],
   "source": [
    "# Crear el objeto modelo\n",
    "objeto_KMeans = KMeans(featuresCol = 'standardized', k = 3)"
   ]
  },
  {
   "cell_type": "code",
   "execution_count": 71,
   "metadata": {},
   "outputs": [],
   "source": [
    "# Entrenar al modelo\n",
    "modelo_KMeans = objeto_KMeans.fit(df)"
   ]
  },
  {
   "cell_type": "code",
   "execution_count": 72,
   "metadata": {},
   "outputs": [],
   "source": [
    "# Modelo de predicciones\n",
    "df_output = modelo_KMeans.transform(df)"
   ]
  },
  {
   "cell_type": "markdown",
   "metadata": {},
   "source": [
    "## Sistema de Recomendación"
   ]
  },
  {
   "cell_type": "code",
   "execution_count": 73,
   "metadata": {},
   "outputs": [],
   "source": [
    "# Clase\n",
    "class RecoSystem():\n",
    "    \n",
    "    # Método constructor\n",
    "    def __init__(self, data):\n",
    "        self.data_ = data\n",
    "    \n",
    "    # Método de recomendación\n",
    "    def Recomm(self, nome_musica, amount = 1):\n",
    "        \n",
    "        # lista de distancias\n",
    "        distancias = []\n",
    "        \n",
    "        # Selecciona la musica\n",
    "        song = self.data_[(self.data_.name.str.lower() == nome_musica.lower())].head(1).values[0]\n",
    "        res_dt = self.data_[self.data_.name.str.lower() != nome_musica.lower()]\n",
    "        \n",
    "        # Loop para calcular distancias\n",
    "        for i_song in tqdm(res_dt.values):\n",
    "            \n",
    "            # Inicializar la distancia\n",
    "            distancia = 0\n",
    "            \n",
    "            # Loop para calcular a distância\n",
    "            for col in np.arange(len(res_dt.columns)):\n",
    "                if not col in [0,1,2,14]:\n",
    "                    distancia = distancia + np.absolute(float(song[col]) - float(i_song[col]))\n",
    "            \n",
    "            # Añadir a la lista de distancias\n",
    "            distancias.append(distancia)\n",
    "        \n",
    "        res_dt['distance'] = distancias\n",
    "        res_dt = res_dt.sort_values('distance')\n",
    "        \n",
    "        columns = ['id','name', \n",
    "                   'artists', \n",
    "                   'acousticness', \n",
    "                   'liveness', \n",
    "                   'instrumentalness', \n",
    "                   'energy', \n",
    "                   'danceability', \n",
    "                   'valence']\n",
    "        \n",
    "        return res_dt[columns][:amount]"
   ]
  },
  {
   "cell_type": "code",
   "execution_count": 74,
   "metadata": {},
   "outputs": [],
   "source": [
    "# Nombres de columnas\n",
    "datalabel = df_output.select('id',\n",
    "                             'name',\n",
    "                             'artists',\n",
    "                             'danceability',\n",
    "                             'energy',\n",
    "                             'key',\n",
    "                             'loudness',\n",
    "                             'speechiness',\n",
    "                             'acousticness',\n",
    "                             'instrumentalness',\n",
    "                             'liveness',\n",
    "                             'valence',\n",
    "                             'tempo',\n",
    "                             'prediction')"
   ]
  },
  {
   "cell_type": "code",
   "execution_count": 75,
   "metadata": {},
   "outputs": [],
   "source": [
    "# Dataset final\n",
    "df_final = datalabel.toPandas()\n",
    "df_final.drop(df_final[df_final['artists'] == '0'].index, inplace = True)\n",
    "df_final.drop_duplicates(inplace = True)\n",
    "df_final.drop(df_final[df_final['danceability'] == 0.0000].index, inplace = True)\n",
    "df_final.drop(df_final[df_final['liveness'] == 0.000].index, inplace = True)\n",
    "df_final.drop(df_final[df_final['instrumentalness'] == 0.000000].index, inplace = True)\n",
    "df_final.drop(df_final[df_final['energy'] == 0.0000].index, inplace = True)\n",
    "df_final.drop(df_final[df_final['danceability'] == 0.000].index, inplace = True)\n",
    "df_final.drop(df_final[df_final['valence'] == 0.000].index, inplace = True)"
   ]
  },
  {
   "cell_type": "code",
   "execution_count": 76,
   "metadata": {},
   "outputs": [
    {
     "data": {
      "text/plain": [
       "(210, 14)"
      ]
     },
     "execution_count": 76,
     "metadata": {},
     "output_type": "execute_result"
    }
   ],
   "source": [
    "df_final.shape"
   ]
  },
  {
   "cell_type": "code",
   "execution_count": 77,
   "metadata": {},
   "outputs": [
    {
     "data": {
      "text/html": [
       "<div>\n",
       "<style scoped>\n",
       "    .dataframe tbody tr th:only-of-type {\n",
       "        vertical-align: middle;\n",
       "    }\n",
       "\n",
       "    .dataframe tbody tr th {\n",
       "        vertical-align: top;\n",
       "    }\n",
       "\n",
       "    .dataframe thead th {\n",
       "        text-align: right;\n",
       "    }\n",
       "</style>\n",
       "<table border=\"1\" class=\"dataframe\">\n",
       "  <thead>\n",
       "    <tr style=\"text-align: right;\">\n",
       "      <th></th>\n",
       "      <th>id</th>\n",
       "      <th>name</th>\n",
       "      <th>artists</th>\n",
       "      <th>danceability</th>\n",
       "      <th>energy</th>\n",
       "      <th>key</th>\n",
       "      <th>loudness</th>\n",
       "      <th>speechiness</th>\n",
       "      <th>acousticness</th>\n",
       "      <th>instrumentalness</th>\n",
       "      <th>liveness</th>\n",
       "      <th>valence</th>\n",
       "      <th>tempo</th>\n",
       "      <th>prediction</th>\n",
       "    </tr>\n",
       "  </thead>\n",
       "  <tbody>\n",
       "    <tr>\n",
       "      <th>58</th>\n",
       "      <td>4DbBrWnJSyFzhsSiUmbFUp</td>\n",
       "      <td>Ready For This - Radio Mix</td>\n",
       "      <td>WeirdTogether</td>\n",
       "      <td>0.774</td>\n",
       "      <td>0.740</td>\n",
       "      <td>2</td>\n",
       "      <td>-6.069</td>\n",
       "      <td>0.0469</td>\n",
       "      <td>0.00944</td>\n",
       "      <td>0.021900</td>\n",
       "      <td>0.2920</td>\n",
       "      <td>0.413</td>\n",
       "      <td>134.979</td>\n",
       "      <td>0</td>\n",
       "    </tr>\n",
       "    <tr>\n",
       "      <th>142</th>\n",
       "      <td>54y28hHMODdCpjHSj6ggDN</td>\n",
       "      <td>Bluffs &amp; Blocks</td>\n",
       "      <td>StayatHomeSon</td>\n",
       "      <td>0.452</td>\n",
       "      <td>0.658</td>\n",
       "      <td>1</td>\n",
       "      <td>-9.319</td>\n",
       "      <td>0.0457</td>\n",
       "      <td>0.46200</td>\n",
       "      <td>0.001710</td>\n",
       "      <td>0.1460</td>\n",
       "      <td>0.365</td>\n",
       "      <td>78.985</td>\n",
       "      <td>0</td>\n",
       "    </tr>\n",
       "    <tr>\n",
       "      <th>99</th>\n",
       "      <td>3pS5SUvGmrzZUYjsWo7ISz</td>\n",
       "      <td>Back and Forth</td>\n",
       "      <td>HolyOker</td>\n",
       "      <td>0.882</td>\n",
       "      <td>0.329</td>\n",
       "      <td>5</td>\n",
       "      <td>-18.496</td>\n",
       "      <td>0.1230</td>\n",
       "      <td>0.23500</td>\n",
       "      <td>0.928000</td>\n",
       "      <td>0.0950</td>\n",
       "      <td>0.628</td>\n",
       "      <td>110.030</td>\n",
       "      <td>1</td>\n",
       "    </tr>\n",
       "    <tr>\n",
       "      <th>201</th>\n",
       "      <td>4kBrbBGK0vLW1CihB20Qtq</td>\n",
       "      <td>100K</td>\n",
       "      <td>Antwon</td>\n",
       "      <td>0.556</td>\n",
       "      <td>0.449</td>\n",
       "      <td>7</td>\n",
       "      <td>-10.363</td>\n",
       "      <td>0.2270</td>\n",
       "      <td>0.08070</td>\n",
       "      <td>0.037200</td>\n",
       "      <td>0.4460</td>\n",
       "      <td>0.484</td>\n",
       "      <td>89.984</td>\n",
       "      <td>0</td>\n",
       "    </tr>\n",
       "    <tr>\n",
       "      <th>12</th>\n",
       "      <td>0L8Jl4sRg5JEItM01NElhT</td>\n",
       "      <td>Beast Mode - Hype Mix</td>\n",
       "      <td>SnappyJitJamminJoe</td>\n",
       "      <td>0.857</td>\n",
       "      <td>0.904</td>\n",
       "      <td>2</td>\n",
       "      <td>-4.841</td>\n",
       "      <td>0.2190</td>\n",
       "      <td>0.00173</td>\n",
       "      <td>0.000019</td>\n",
       "      <td>0.0936</td>\n",
       "      <td>0.891</td>\n",
       "      <td>159.987</td>\n",
       "      <td>0</td>\n",
       "    </tr>\n",
       "  </tbody>\n",
       "</table>\n",
       "</div>"
      ],
      "text/plain": [
       "                         id                        name             artists  \\\n",
       "58   4DbBrWnJSyFzhsSiUmbFUp  Ready For This - Radio Mix       WeirdTogether   \n",
       "142  54y28hHMODdCpjHSj6ggDN             Bluffs & Blocks       StayatHomeSon   \n",
       "99   3pS5SUvGmrzZUYjsWo7ISz              Back and Forth            HolyOker   \n",
       "201  4kBrbBGK0vLW1CihB20Qtq                        100K              Antwon   \n",
       "12   0L8Jl4sRg5JEItM01NElhT       Beast Mode - Hype Mix  SnappyJitJamminJoe   \n",
       "\n",
       "     danceability  energy key  loudness  speechiness  acousticness  \\\n",
       "58          0.774   0.740   2    -6.069       0.0469       0.00944   \n",
       "142         0.452   0.658   1    -9.319       0.0457       0.46200   \n",
       "99          0.882   0.329   5   -18.496       0.1230       0.23500   \n",
       "201         0.556   0.449   7   -10.363       0.2270       0.08070   \n",
       "12          0.857   0.904   2    -4.841       0.2190       0.00173   \n",
       "\n",
       "     instrumentalness  liveness  valence    tempo  prediction  \n",
       "58           0.021900    0.2920    0.413  134.979           0  \n",
       "142          0.001710    0.1460    0.365   78.985           0  \n",
       "99           0.928000    0.0950    0.628  110.030           1  \n",
       "201          0.037200    0.4460    0.484   89.984           0  \n",
       "12           0.000019    0.0936    0.891  159.987           0  "
      ]
     },
     "execution_count": 77,
     "metadata": {},
     "output_type": "execute_result"
    },
    {
     "name": "stderr",
     "output_type": "stream",
     "text": [
      "\r",
      "[Stage 129:>                                                        (0 + 1) / 1]\r",
      "\r",
      "                                                                                \r"
     ]
    }
   ],
   "source": [
    "df_final.sample(5)"
   ]
  },
  {
   "cell_type": "code",
   "execution_count": 78,
   "metadata": {},
   "outputs": [],
   "source": [
    "# Crear el objeto\n",
    "reco_obj = RecoSystem(df_final)"
   ]
  },
  {
   "cell_type": "code",
   "execution_count": 79,
   "metadata": {},
   "outputs": [],
   "source": [
    "musica = df_musica_randomica['name'].tolist()[0]"
   ]
  },
  {
   "cell_type": "code",
   "execution_count": 80,
   "metadata": {},
   "outputs": [
    {
     "name": "stdout",
     "output_type": "stream",
     "text": [
      "After Slice\n"
     ]
    }
   ],
   "source": [
    "print(musica)"
   ]
  },
  {
   "cell_type": "code",
   "execution_count": 81,
   "metadata": {},
   "outputs": [
    {
     "name": "stderr",
     "output_type": "stream",
     "text": [
      "100%|█████████████████████████████████████████████████████████████████████████████████████████████████| 209/209 [00:00<00:00, 35689.66it/s]\n"
     ]
    }
   ],
   "source": [
    "# Ejecutar la recomendación\n",
    "recomendacao = reco_obj.Recomm(musica)"
   ]
  },
  {
   "cell_type": "code",
   "execution_count": 82,
   "metadata": {},
   "outputs": [],
   "source": [
    "# Extraiga música aleatoria de la lista de favoritos de Spotify\n",
    "y = df_musica_randomica[['id','name', \n",
    "                         'artists',  \n",
    "                         'acousticness', \n",
    "                         'liveness', \n",
    "                         'instrumentalness', \n",
    "                         'energy', \n",
    "                         'danceability', \n",
    "                         'valence']]"
   ]
  },
  {
   "cell_type": "code",
   "execution_count": 83,
   "metadata": {},
   "outputs": [],
   "source": [
    "# Concatena la recomendación con la canción aleatoria de la lista de favoritos de Spotify\n",
    "recomendacao = pd.concat([recomendacao, y])"
   ]
  },
  {
   "cell_type": "code",
   "execution_count": 84,
   "metadata": {},
   "outputs": [],
   "source": [
    "# Guardar recomendación en disco\n",
    "#recomendacao.to_csv('recomendacoes/recomendacao.csv')"
   ]
  },
  {
   "cell_type": "code",
   "execution_count": 85,
   "metadata": {},
   "outputs": [],
   "source": [
    "# Cargar archivo desde disco\n",
    "df_reco = (spark.read.format(\"csv\").options(header = \"true\").load(\"recomendacoes/recomendacao.csv\"))"
   ]
  },
  {
   "cell_type": "code",
   "execution_count": 86,
   "metadata": {},
   "outputs": [
    {
     "name": "stdout",
     "output_type": "stream",
     "text": [
      "+---+--------------------+--------------------+-----------+------------+--------+----------------+------+------------+-------+\n",
      "|_c0|                  id|                name|    artists|acousticness|liveness|instrumentalness|energy|danceability|valence|\n",
      "+---+--------------------+--------------------+-----------+------------+--------+----------------+------+------------+-------+\n",
      "|128|268dguW2tmVGU6TK4...|Banging the Neigh...| ManaIsland|       0.145|   0.196|        2.59e-05| 0.763|       0.441|  0.374|\n",
      "| 32|7KGFNruz20BVdcSzo...|         After Slice|Ivory Waves|       0.289|  0.0632|          0.0221| 0.348|       0.664|  0.607|\n",
      "+---+--------------------+--------------------+-----------+------------+--------+----------------+------+------------+-------+\n",
      "\n"
     ]
    },
    {
     "name": "stderr",
     "output_type": "stream",
     "text": [
      "                                                                                \r"
     ]
    }
   ],
   "source": [
    "# Recomendación musical\n",
    "df_reco.show()"
   ]
  },
  {
   "cell_type": "markdown",
   "metadata": {},
   "source": [
    "# Fin"
   ]
  }
 ],
 "metadata": {
  "kernelspec": {
   "display_name": "Python 3 (ipykernel)",
   "language": "python",
   "name": "python3"
  },
  "language_info": {
   "codemirror_mode": {
    "name": "ipython",
    "version": 3
   },
   "file_extension": ".py",
   "mimetype": "text/x-python",
   "name": "python",
   "nbconvert_exporter": "python",
   "pygments_lexer": "ipython3",
   "version": "3.9.12"
  }
 },
 "nbformat": 4,
 "nbformat_minor": 4
}
