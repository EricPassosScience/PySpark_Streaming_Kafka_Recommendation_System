{
 "cells": [
  {
   "cell_type": "code",
   "execution_count": null,
   "metadata": {},
   "outputs": [],
   "source": [
    "# https://kafka-python.readthedocs.io/en/master/\n",
    "!pip install -q kafka-python"
   ]
  },
  {
   "cell_type": "code",
   "execution_count": null,
   "metadata": {},
   "outputs": [],
   "source": [
    "# Imports\n",
    "import time\n",
    "import random\n",
    "import kafka\n",
    "import numpy as np\n",
    "import pandas as pd\n",
    "from json import dumps\n",
    "from kafka import KafkaProducer\n",
    "import warnings\n",
    "warnings.filterwarnings('ignore')"
   ]
  },
  {
   "cell_type": "code",
   "execution_count": null,
   "metadata": {},
   "outputs": [],
   "source": [
    "# Dirección de kafka\n",
    "SERVER = 'localhost:9092'"
   ]
  },
  {
   "cell_type": "code",
   "execution_count": null,
   "metadata": {},
   "outputs": [],
   "source": [
    "# Nmmbre del Tema\n",
    "TOPIC = \"ericpassos\""
   ]
  },
  {
   "cell_type": "code",
   "execution_count": null,
   "metadata": {},
   "outputs": [],
   "source": [
    "# Cargando el conjunto de datos de Música\n",
    "df_projeto = pd.read_csv(\"dados/dataset.csv\")"
   ]
  },
  {
   "cell_type": "code",
   "execution_count": null,
   "metadata": {},
   "outputs": [],
   "source": [
    "# Ajustando el formato de 3 columnas importantes: order_id, Artist Name(s) e Artist IDs\n",
    "df_projeto['order_id'] = np.arange(len(df_projeto))\n",
    "df_projeto['Artist Name(s)'] = df_projeto['Artist Name(s)'].str.replace('[^a-zA-Z]', '')\n",
    "df_projeto['Artist IDs'] = df_projeto['Artist IDs'].str.replace('[^a-zA-Z]', '')"
   ]
  },
  {
   "cell_type": "code",
   "execution_count": null,
   "metadata": {},
   "outputs": [],
   "source": [
    "df_projeto.shape"
   ]
  },
  {
   "cell_type": "code",
   "execution_count": null,
   "metadata": {},
   "outputs": [],
   "source": [
    "df_projeto.head(10)"
   ]
  },
  {
   "cell_type": "code",
   "execution_count": null,
   "metadata": {},
   "outputs": [],
   "source": [
    "# Convertimos el dataframe en un diccionario musical\n",
    "dict_musicas = df_projeto.to_dict(orient = \"records\")"
   ]
  },
  {
   "cell_type": "code",
   "execution_count": null,
   "metadata": {},
   "outputs": [],
   "source": [
    "dict_musicas[1:3]"
   ]
  },
  {
   "cell_type": "code",
   "execution_count": null,
   "metadata": {
    "pycharm": {
     "is_executing": true
    },
    "scrolled": true
   },
   "outputs": [],
   "source": [
    "# Kafka Producer\n",
    "if __name__ == \"__main__\":\n",
    "\n",
    "    # Crear el \"producer\"\n",
    "    producer = KafkaProducer(bootstrap_servers = SERVER, \n",
    "                             value_serializer = lambda x: x.encode('utf-8'))\n",
    "    \n",
    "    # Variables de control\n",
    "    send = []    \n",
    "    send = None\n",
    "\n",
    "    # \"Loop\" a través del diccionario de música\n",
    "    for musica in dict_musicas:\n",
    "        \n",
    "        # Crea la lista de datos que se enviarán a Kafka\n",
    "        sending = []\n",
    "        \n",
    "        # Append de cada columna\n",
    "        sending.append(musica[\"order_id\"])\n",
    "        sending.append(musica[\"Spotify ID\"])\n",
    "        sending.append(musica[\"Track Name\"])\n",
    "        sending.append(musica[\"Popularity\"])\n",
    "        sending.append(musica[\"Duration (ms)\"])\n",
    "        sending.append(musica[\"Artist Name(s)\"])\n",
    "        sending.append(musica[\"Artist IDs\"])\n",
    "        sending.append(musica[\"Release Date\"])\n",
    "        sending.append(musica[\"Danceability\"])\n",
    "        sending.append(musica[\"Energy\"])\n",
    "        sending.append(musica[\"Key\"])\n",
    "        sending.append(musica[\"Loudness\"])\n",
    "        sending.append(musica[\"Mode\"])\n",
    "        sending.append(musica[\"Speechiness\"])\n",
    "        sending.append(musica[\"Acousticness\"])\n",
    "        sending.append(musica[\"Instrumentalness\"])\n",
    "        sending.append(musica[\"Liveness\"])\n",
    "        sending.append(musica[\"Valence\"])\n",
    "        sending.append(musica[\"Tempo\"])\n",
    "        sending.append(musica[\"Time Signature\"])\n",
    "        \n",
    "        # Ponlo todo junto (json)\n",
    "        musica = ','.join(str(v) for v in sending)\n",
    "\n",
    "        # Enviar los datos al tema\n",
    "        print(\"Próxima Música:\" )\n",
    "        print(musica)\n",
    "        producer.send(TOPIC, musica)\n",
    "        time.sleep(1)\n",
    "\n",
    "    print(\"Hecho\")"
   ]
  },
  {
   "cell_type": "markdown",
   "metadata": {},
   "source": [
    "# Fin"
   ]
  }
 ],
 "metadata": {
  "kernelspec": {
   "display_name": "Python 3 (ipykernel)",
   "language": "python",
   "name": "python3"
  },
  "language_info": {
   "codemirror_mode": {
    "name": "ipython",
    "version": 3
   },
   "file_extension": ".py",
   "mimetype": "text/x-python",
   "name": "python",
   "nbconvert_exporter": "python",
   "pygments_lexer": "ipython3",
   "version": "3.9.12"
  }
 },
 "nbformat": 4,
 "nbformat_minor": 4
}
